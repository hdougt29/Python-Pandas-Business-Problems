{
  "nbformat": 4,
  "nbformat_minor": 0,
  "metadata": {
    "colab": {
      "provenance": []
    },
    "kernelspec": {
      "name": "python3",
      "display_name": "Python 3"
    },
    "language_info": {
      "name": "python"
    }
  },
  "cells": [
    {
      "cell_type": "code",
      "source": [
        "#Import library and data\n",
        "import pandas as pd\n",
        "\n",
        "lego_sets = pd.read_csv('https://raw.githubusercontent.com/KeithGalli/lego-analysis/master/datasets/lego_sets.csv')\n",
        "lego_theme = pd.read_csv('https://raw.githubusercontent.com/KeithGalli/lego-analysis/master/datasets/parent_themes.csv')"
      ],
      "metadata": {
        "id": "A3UiYkbz6_3J"
      },
      "execution_count": 1,
      "outputs": []
    },
    {
      "cell_type": "code",
      "source": [
        "lego = lego_sets.merge(lego_theme, left_on='parent_theme', right_on='name') #join datasets on lego_sets.lego_theme = lego_theme.parent_theme\n",
        "lego.drop(columns=\"name_y\", inplace = True) #Drop duplicate name column\n",
        "lego.rename(columns={'name_x': 'name'}, inplace=True) #Rename remaining name column"
      ],
      "metadata": {
        "id": "d6deYs7D7C-p"
      },
      "execution_count": 2,
      "outputs": []
    },
    {
      "cell_type": "code",
      "source": [
        "licensed = lego[lego['is_licensed']==True] #Create dataframe of licensed sets\n",
        "licensed.dropna(subset=['set_num'], inplace = True) #Drop null values in set_num column\n",
        "star_wars = licensed[licensed['parent_theme']=='Star Wars'] #Create dataframe of star wars licensed sets"
      ],
      "metadata": {
        "id": "2r_Vs6yw7C3A"
      },
      "execution_count": null,
      "outputs": []
    },
    {
      "cell_type": "code",
      "source": [
        "licensed_count = licensed.groupby(['year','parent_theme']).sum().reset_index() #Group licensed dataset by year and parent theme, add count column\n",
        "licensed_count = licensed_count.sort_values(['year', 'count'], ascending=False) #Sort values descending by year and count\n",
        "\n",
        "most_popular = licensed_count.drop_duplicates('year') #Create dataset of most popular theme by year\n",
        "not_most_popular = most_popular[~(most_popular.parent_theme == \"Star Wars\")] #Index most popular dataset where theme != Star Wars\n",
        "print(not_most_popular) #Show only years where Star Wars was not the most popular"
      ],
      "metadata": {
        "colab": {
          "base_uri": "https://localhost:8080/"
        },
        "id": "4GhXdtYy7Cig",
        "outputId": "940e841c-1f47-4e00-8f55-efb3f7d9853d"
      },
      "execution_count": 58,
      "outputs": [
        {
          "output_type": "stream",
          "name": "stdout",
          "text": [
            "    year  parent_theme  num_parts     id  is_licensed  count\n",
            "82  2017  Super Heroes    13123.0  34704           72     72\n"
          ]
        }
      ]
    }
  ]
}