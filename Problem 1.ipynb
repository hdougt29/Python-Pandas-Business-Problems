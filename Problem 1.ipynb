{
  "nbformat": 4,
  "nbformat_minor": 0,
  "metadata": {
    "colab": {
      "provenance": []
    },
    "kernelspec": {
      "name": "python3",
      "display_name": "Python 3"
    },
    "language_info": {
      "name": "python"
    }
  },
  "cells": [
    {
      "cell_type": "code",
      "source": [
        "#Import library and data\n",
        "import pandas as pd\n",
        "\n",
        "lego_sets = pd.read_csv('https://raw.githubusercontent.com/KeithGalli/lego-analysis/master/datasets/lego_sets.csv')\n",
        "lego_theme = pd.read_csv('https://raw.githubusercontent.com/KeithGalli/lego-analysis/master/datasets/parent_themes.csv')"
      ],
      "metadata": {
        "id": "UbyUkrqkwoZc"
      },
      "execution_count": 6,
      "outputs": []
    },
    {
      "cell_type": "code",
      "source": [
        "lego = lego_sets.merge(lego_theme, left_on='parent_theme', right_on='name') #join datasets on lego_sets.lego_theme = lego_theme.parent_theme\n",
        "lego.drop(columns=\"name_y\", inplace = True) #Drop duplicate name column\n",
        "lego.rename(columns={'name_x': 'name'}, inplace=True) #Rename remaining name column"
      ],
      "metadata": {
        "id": "zfYXTD3n2Uon"
      },
      "execution_count": 8,
      "outputs": []
    },
    {
      "cell_type": "code",
      "source": [
        "licensed = lego[lego['is_licensed']==True] #Create dataframe of licensed sets\n",
        "licensed.dropna(subset=['set_num'], inplace = True) #Drop null values in set_num column\n",
        "star_wars = licensed[licensed['parent_theme']=='Star Wars'] #Create dataframe of star wars licensed sets"
      ],
      "metadata": {
        "id": "cHW-CprbavzV"
      },
      "execution_count": null,
      "outputs": []
    },
    {
      "cell_type": "code",
      "source": [
        "percent_star_wars = star_wars.shape[0]/licensed.shape[0]*100 #Percentage of star wars sets out of all licensed sets\n",
        "percent_star_wars #Display percentage "
      ],
      "metadata": {
        "colab": {
          "base_uri": "https://localhost:8080/"
        },
        "id": "h_acrchacHsw",
        "outputId": "7f9946be-5feb-4fd3-9d9e-bbfc0ce03e53"
      },
      "execution_count": 31,
      "outputs": [
        {
          "output_type": "execute_result",
          "data": {
            "text/plain": [
              "51.653944020356235"
            ]
          },
          "metadata": {},
          "execution_count": 31
        }
      ]
    }
  ]
}